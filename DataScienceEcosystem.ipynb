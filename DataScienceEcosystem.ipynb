{
 "cells": [
  {
   "cell_type": "markdown",
   "id": "145b1209-19e0-473d-9146-86fab5bf062b",
   "metadata": {
    "tags": []
   },
   "source": [
    "# Data Science Tools and Ecosystem"
   ]
  },
  {
   "cell_type": "markdown",
   "id": "c3ce96ca-eea2-4a0f-9282-d7cae6d215b9",
   "metadata": {},
   "source": [
    "In this notebook, Data Science Tools and Ecosystem sre summerized"
   ]
  },
  {
   "cell_type": "markdown",
   "id": "9b56d944-4ef4-41d6-b7ff-26357a0795c3",
   "metadata": {},
   "source": [
    "Some of the popular languages that Data Scientists use are:"
   ]
  },
  {
   "cell_type": "markdown",
   "id": "7d234e97-9170-408f-a2c5-4a1299bbf68b",
   "metadata": {},
   "source": [
    "1. Python\n",
    "2. R\n",
    "3. SQL\n",
    "4. C++\n",
    "5. Scala\n",
    "6. Java\n",
    "7. JUlia"
   ]
  },
  {
   "cell_type": "markdown",
   "id": "260829f0-de4c-43a1-a9d5-80c049a25bb0",
   "metadata": {},
   "source": [
    "Some of the commonly used libraries used by Data Scientists include:"
   ]
  },
  {
   "cell_type": "markdown",
   "id": "c174c2b1-8c98-43dd-828b-9b73518c0e17",
   "metadata": {},
   "source": [
    "1. numPy\n",
    "2. Pandas\n",
    "3. Matplotlib\n",
    "4. Scikit-Learn\n",
    "5. ggplot2\n",
    "6. TensorFlow\n",
    "7. Pytorch"
   ]
  },
  {
   "cell_type": "markdown",
   "id": "73fae574-5839-4ca5-8302-6b78f5029dfe",
   "metadata": {},
   "source": [
    "Data Science Tools|\n",
    "-|\n",
    "Jupyter|\n",
    "Rstudio|\n",
    "Apache Spark|\n",
    "\n"
   ]
  },
  {
   "cell_type": "markdown",
   "id": "3715bfe7-391f-42e3-81e7-13ab1e5b9c30",
   "metadata": {},
   "source": [
    "### Below are a few examples of evaluating arithmetic expressions in Python\n",
    "\n"
   ]
  },
  {
   "cell_type": "code",
   "execution_count": 2,
   "id": "d1174b2a-3b8a-44fb-9536-163aca0f9e44",
   "metadata": {
    "tags": []
   },
   "outputs": [
    {
     "name": "stdout",
     "output_type": "stream",
     "text": [
      "17\n"
     ]
    }
   ],
   "source": [
    "#This a simple arithmetic expression to mutiply then add integers.\n",
    "print((3 * 4) + 5)"
   ]
  },
  {
   "cell_type": "code",
   "execution_count": 3,
   "id": "696a6df6-98ec-45ce-8a5e-79eae9242932",
   "metadata": {
    "tags": []
   },
   "outputs": [
    {
     "name": "stdout",
     "output_type": "stream",
     "text": [
      "3.3333333333333335\n"
     ]
    }
   ],
   "source": [
    "#This will convert 200 minutes to hours by diving by 60\n",
    "print(200 / 60 )"
   ]
  },
  {
   "cell_type": "markdown",
   "id": "37bb64e7-c311-44de-9d5e-30efb4f679c0",
   "metadata": {},
   "source": [
    "**objectives**:\n",
    "- Python\n",
    "- SQL\n",
    "- R"
   ]
  },
  {
   "cell_type": "markdown",
   "id": "c17ab723-76ba-42ce-b6b4-7128e89500b4",
   "metadata": {},
   "source": [
    "## Author\n",
    "Hiroaki Tahara"
   ]
  }
 ],
 "metadata": {
  "kernelspec": {
   "display_name": "Python 3 (ipykernel)",
   "language": "python",
   "name": "python3"
  },
  "language_info": {
   "codemirror_mode": {
    "name": "ipython",
    "version": 3
   },
   "file_extension": ".py",
   "mimetype": "text/x-python",
   "name": "python",
   "nbconvert_exporter": "python",
   "pygments_lexer": "ipython3",
   "version": "3.11.5"
  }
 },
 "nbformat": 4,
 "nbformat_minor": 5
}
